{
 "cells": [
  {
   "cell_type": "markdown",
   "id": "701e7bf2",
   "metadata": {},
   "source": [
    "# Implement Fibonacci series using recursion"
   ]
  },
  {
   "cell_type": "code",
   "execution_count": 7,
   "id": "df513876",
   "metadata": {},
   "outputs": [],
   "source": [
    "def fibonacci(number):\n",
    "    if number <= 1:\n",
    "        return number\n",
    "    else:\n",
    "        return number * fibonacci(number - 1)"
   ]
  },
  {
   "cell_type": "code",
   "execution_count": 8,
   "id": "db98887f",
   "metadata": {},
   "outputs": [
    {
     "name": "stdout",
     "output_type": "stream",
     "text": [
      "enter the number : h\n",
      "enter a number please\n",
      "enter the number : 5\n",
      "120\n"
     ]
    }
   ],
   "source": [
    "while True:\n",
    "    try:\n",
    "        number = input('enter the number : ')\n",
    "        if '.' in number:\n",
    "            number = float(number)\n",
    "            print(fibonacci(number))\n",
    "            break\n",
    "        else:\n",
    "            number = int(number)\n",
    "            print(fibonacci(number))\n",
    "            break\n",
    "    except:\n",
    "        print('enter a number please')"
   ]
  },
  {
   "cell_type": "code",
   "execution_count": 11,
   "id": "87422cfd",
   "metadata": {},
   "outputs": [],
   "source": [
    "def fibonacci_add(number):\n",
    "    if number <= 1:\n",
    "        return number\n",
    "    else:\n",
    "        return fibonacci(number -1) + fibonacci(number - 2)"
   ]
  },
  {
   "cell_type": "code",
   "execution_count": 13,
   "id": "c259c855",
   "metadata": {},
   "outputs": [
    {
     "name": "stdout",
     "output_type": "stream",
     "text": [
      "enter the number : k\n",
      "enter a number please\n",
      "enter the number : 5\n",
      "30\n"
     ]
    }
   ],
   "source": [
    "while True:\n",
    "    try:\n",
    "        number = input('enter the number : ')\n",
    "        if '.' in number:\n",
    "            number = float(number)\n",
    "            print(fibonacci_add(number))\n",
    "            break\n",
    "        else:\n",
    "            number = int(number)\n",
    "            print(fibonacci_add(number))\n",
    "            break\n",
    "    except:\n",
    "        print('enter a number please')"
   ]
  },
  {
   "cell_type": "markdown",
   "id": "f03b9c5c",
   "metadata": {},
   "source": [
    "# 2) Write a function that will take a given string and reverse the order of the words. "
   ]
  },
  {
   "cell_type": "code",
   "execution_count": 42,
   "id": "e3197887",
   "metadata": {},
   "outputs": [
    {
     "data": {
      "text/plain": [
       "' May you with be Fourth the '"
      ]
     },
     "execution_count": 42,
     "metadata": {},
     "output_type": "execute_result"
    }
   ],
   "source": [
    "s = 'May the Fourth be with you'\n",
    "temp = s.split(' ')\n",
    "another = ' '\n",
    "for index,value in enumerate(temp):\n",
    "    another += temp[-index] + ' '\n",
    "another"
   ]
  },
  {
   "cell_type": "code",
   "execution_count": 45,
   "id": "345e9994",
   "metadata": {},
   "outputs": [
    {
     "name": "stdout",
     "output_type": "stream",
     "text": [
      "enter a statmenthello world\n",
      "world hello\n"
     ]
    }
   ],
   "source": []
  },
  {
   "cell_type": "code",
   "execution_count": 22,
   "id": "6f32ea66",
   "metadata": {},
   "outputs": [],
   "source": [
    "def reverse(string):\n",
    "    if string.isnumeric():\n",
    "        string = int(string)\n",
    "    words = string.split(' ')\n",
    "    reverse_string =[] \n",
    "    for word in words: \n",
    "        reverse_string.insert(0, word)\n",
    "    reverse_string = ' '.join(reverse_string)\n",
    "    return reverse_string"
   ]
  },
  {
   "cell_type": "code",
   "execution_count": 21,
   "id": "2c270ac3",
   "metadata": {},
   "outputs": [
    {
     "name": "stdout",
     "output_type": "stream",
     "text": [
      "enter a statment : 78\n",
      "enter a statment not a number\n",
      "enter a statment : 45\n",
      "enter a statment not a number\n",
      "enter a statment : May the Fourth be with you\n",
      "you with be Fourth the May\n"
     ]
    }
   ],
   "source": [
    "while True:\n",
    "    try:\n",
    "        string = input('enter a statment : ')\n",
    "        print(reverse(string))\n",
    "        break\n",
    "    except:\n",
    "        print('enter a statment not a number')"
   ]
  },
  {
   "cell_type": "code",
   "execution_count": 19,
   "id": "c30146b4",
   "metadata": {},
   "outputs": [
    {
     "data": {
      "text/plain": [
       "'h l k o p'"
      ]
     },
     "execution_count": 19,
     "metadata": {},
     "output_type": "execute_result"
    }
   ],
   "source": [
    "s = ['h','l','k','o','p']\n",
    "b = ' '.join(s)\n",
    "b"
   ]
  },
  {
   "cell_type": "code",
   "execution_count": 20,
   "id": "18fd17d4",
   "metadata": {},
   "outputs": [
    {
     "name": "stdout",
     "output_type": "stream",
     "text": [
      "enterhello world\n"
     ]
    },
    {
     "data": {
      "text/plain": [
       "'world hello'"
      ]
     },
     "execution_count": 20,
     "metadata": {},
     "output_type": "execute_result"
    }
   ],
   "source": [
    "reverse(input('enter'))"
   ]
  },
  {
   "cell_type": "markdown",
   "id": "ff80e331",
   "metadata": {},
   "source": [
    "# 3) Write a function, primeNumberDetector, that tests if a number, n is a prime number"
   ]
  },
  {
   "cell_type": "code",
   "execution_count": 35,
   "id": "b7f7815c",
   "metadata": {},
   "outputs": [
    {
     "name": "stdout",
     "output_type": "stream",
     "text": [
      "8 is not a prime number\n",
      "None\n"
     ]
    }
   ],
   "source": [
    "def test_prime(n):\n",
    "    if (n==1):\n",
    "        return print(n,'is not a prime number')\n",
    "    elif (n==2):\n",
    "        return print(n,'is a prime number')\n",
    "    else:\n",
    "        for x in range(2,n):\n",
    "            if(n % x == 0):\n",
    "                return print(n,'is not a prime number')\n",
    "        return print(n,'is a prime number')             \n",
    "test_prime(8)"
   ]
  },
  {
   "cell_type": "code",
   "execution_count": 5,
   "id": "3f034198",
   "metadata": {},
   "outputs": [
    {
     "name": "stdout",
     "output_type": "stream",
     "text": [
      "enter a number you want to test : hey\n",
      "enter a number not a string\n",
      "enter a number you want to test : 11\n",
      "11 is a prime number\n"
     ]
    }
   ],
   "source": [
    "bol = True\n",
    "while bol:\n",
    "    try:\n",
    "        number = input('enter a number you want to test : ')\n",
    "        if '.' in number:\n",
    "            number = float(number)\n",
    "            test_prime(number)\n",
    "            bol = False\n",
    "        else:\n",
    "            number = int(number)\n",
    "            test_prime(number)\n",
    "            bol = False\n",
    "    except:\n",
    "        print('enter a number not a string')"
   ]
  },
  {
   "cell_type": "code",
   "execution_count": 8,
   "id": "1edac31c",
   "metadata": {},
   "outputs": [],
   "source": [
    "def is_prime(number):\n",
    "  for i in range(2,number):\n",
    "    if (number%i) == 0:\n",
    "      return print(number,'is not a prime number')\n",
    "  return print(number , 'is a prime number')"
   ]
  },
  {
   "cell_type": "code",
   "execution_count": 9,
   "id": "5d586ca7",
   "metadata": {},
   "outputs": [
    {
     "name": "stdout",
     "output_type": "stream",
     "text": [
      "8 is not a prime number\n"
     ]
    }
   ],
   "source": [
    "is_prime(8)"
   ]
  },
  {
   "cell_type": "code",
   "execution_count": 10,
   "id": "e72215a0",
   "metadata": {},
   "outputs": [
    {
     "name": "stdout",
     "output_type": "stream",
     "text": [
      "11 is a prime number\n"
     ]
    }
   ],
   "source": [
    "is_prime(11)"
   ]
  },
  {
   "cell_type": "code",
   "execution_count": 11,
   "id": "efb7264e",
   "metadata": {},
   "outputs": [
    {
     "name": "stdout",
     "output_type": "stream",
     "text": [
      "enter a number you want to test : hey\n",
      "enter a number not a string\n",
      "enter a number you want to test : 8\n",
      "8 is not a prime number\n"
     ]
    }
   ],
   "source": [
    "bol = True\n",
    "while bol:\n",
    "    try:\n",
    "        number = input('enter a number you want to test : ')\n",
    "        if '.' in number:\n",
    "            number = float(number)\n",
    "            is_prime(number)\n",
    "            bol = False\n",
    "        else:\n",
    "            number = int(number)\n",
    "            is_prime(number)\n",
    "            bol = False\n",
    "    except:\n",
    "        print('enter a number not a string')"
   ]
  },
  {
   "cell_type": "markdown",
   "id": "65e3a96b",
   "metadata": {},
   "source": [
    "# 4)Given an integer x, return true if x is a palindrome, and false otherwise"
   ]
  },
  {
   "cell_type": "code",
   "execution_count": 26,
   "id": "08fbb991",
   "metadata": {},
   "outputs": [
    {
     "name": "stdout",
     "output_type": "stream",
     "text": [
      "enter any thing : 121\n",
      "false\n"
     ]
    }
   ],
   "source": [
    "inp = input('enter any thing : ')\n",
    "temp = []\n",
    "for index,value in enumerate(inp):\n",
    "    val = inp[-index]\n",
    "    temp.insert(0,val)\n",
    "if temp == inp :\n",
    "    print('true')\n",
    "else:\n",
    "    print('false')"
   ]
  },
  {
   "cell_type": "code",
   "execution_count": 32,
   "id": "7ffd0e6e",
   "metadata": {},
   "outputs": [],
   "source": [
    "def check(string):\n",
    "    reverse_string = string[::-1]\n",
    "    if string == reverse_string:\n",
    "        print('is a palindrome')\n",
    "    else:\n",
    "        print('is not a palindrome')"
   ]
  },
  {
   "cell_type": "code",
   "execution_count": 33,
   "id": "88be9b2d",
   "metadata": {},
   "outputs": [
    {
     "name": "stdout",
     "output_type": "stream",
     "text": [
      "is a palindrome\n"
     ]
    }
   ],
   "source": [
    "check('121')"
   ]
  },
  {
   "cell_type": "code",
   "execution_count": 35,
   "id": "0bdf40e7",
   "metadata": {},
   "outputs": [
    {
     "name": "stdout",
     "output_type": "stream",
     "text": [
      "enter a string you want to check121\n",
      "is a palindrome\n"
     ]
    }
   ],
   "source": [
    "bol = True\n",
    "while bol:\n",
    "    try:\n",
    "        inp = input('enter a string you want to check')\n",
    "        check(inp)\n",
    "        break\n",
    "    except Exception as e:\n",
    "        print(e)"
   ]
  },
  {
   "cell_type": "code",
   "execution_count": null,
   "id": "42e7dba7",
   "metadata": {},
   "outputs": [],
   "source": []
  }
 ],
 "metadata": {
  "kernelspec": {
   "display_name": "Python 3 (ipykernel)",
   "language": "python",
   "name": "python3"
  },
  "language_info": {
   "codemirror_mode": {
    "name": "ipython",
    "version": 3
   },
   "file_extension": ".py",
   "mimetype": "text/x-python",
   "name": "python",
   "nbconvert_exporter": "python",
   "pygments_lexer": "ipython3",
   "version": "3.9.7"
  }
 },
 "nbformat": 4,
 "nbformat_minor": 5
}
